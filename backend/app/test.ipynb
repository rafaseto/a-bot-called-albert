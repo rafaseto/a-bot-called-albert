{
 "cells": [
  {
   "cell_type": "code",
   "execution_count": 1,
   "id": "791a1ac7",
   "metadata": {},
   "outputs": [],
   "source": [
    "import os\n",
    "from dotenv import load_dotenv\n",
    "from langchain.llms import OpenAI\n",
    "from langchain import LLMChain, PromptTemplate"
   ]
  },
  {
   "cell_type": "markdown",
   "id": "83ee9721",
   "metadata": {},
   "source": [
    "### Load OpenAI's API key"
   ]
  },
  {
   "cell_type": "code",
   "execution_count": 2,
   "id": "4b591137",
   "metadata": {},
   "outputs": [],
   "source": [
    "load_dotenv()\n",
    "api_key = os.getenv(\"OPENAI_API_KEY\")"
   ]
  },
  {
   "cell_type": "markdown",
   "id": "78359edc",
   "metadata": {},
   "source": [
    "### Configure the LLM"
   ]
  },
  {
   "cell_type": "code",
   "execution_count": 3,
   "id": "44560cf1",
   "metadata": {},
   "outputs": [
    {
     "name": "stderr",
     "output_type": "stream",
     "text": [
      "C:\\Users\\rafae\\AppData\\Local\\Temp\\ipykernel_1916\\572321855.py:1: LangChainDeprecationWarning: The class `OpenAI` was deprecated in LangChain 0.0.10 and will be removed in 1.0. An updated version of the class exists in the :class:`~langchain-openai package and should be used instead. To use it run `pip install -U :class:`~langchain-openai` and import as `from :class:`~langchain_openai import OpenAI``.\n",
      "  llm = OpenAI(temperature=0.2, openai_api_key=api_key)\n"
     ]
    }
   ],
   "source": [
    "llm = OpenAI(temperature=0.2, openai_api_key=api_key)"
   ]
  },
  {
   "cell_type": "code",
   "execution_count": 6,
   "id": "af65ce12",
   "metadata": {},
   "outputs": [
    {
     "data": {
      "text/plain": [
       "'gpt-3.5-turbo-instruct'"
      ]
     },
     "execution_count": 6,
     "metadata": {},
     "output_type": "execute_result"
    }
   ],
   "source": [
    "llm.model_name"
   ]
  },
  {
   "cell_type": "markdown",
   "id": "451104d1",
   "metadata": {},
   "source": [
    "### Prompt template to summarize the text"
   ]
  },
  {
   "cell_type": "code",
   "execution_count": 7,
   "id": "0253fd32",
   "metadata": {},
   "outputs": [],
   "source": [
    "template = PromptTemplate(\n",
    "    input_variables=[\"text\"],\n",
    "    template=\"Summarize this text in three words:\\n\\n{text}\"\n",
    ")"
   ]
  },
  {
   "cell_type": "markdown",
   "id": "0b2e5d97",
   "metadata": {},
   "source": [
    "### Chain"
   ]
  },
  {
   "cell_type": "code",
   "execution_count": 16,
   "id": "5fd38702",
   "metadata": {},
   "outputs": [],
   "source": [
    "chain = LLMChain(llm=llm, prompt=template)"
   ]
  },
  {
   "cell_type": "code",
   "execution_count": 17,
   "id": "3a73d006",
   "metadata": {},
   "outputs": [
    {
     "name": "stdout",
     "output_type": "stream",
     "text": [
      "{'text': '\\n\\nPizza, bairro, comer'}\n"
     ]
    }
   ],
   "source": [
    "resume = chain.invoke(input=\"Hoje vou comer pizza na pizzaria do meu bairro.\")\n",
    "print(resume)"
   ]
  }
 ],
 "metadata": {
  "kernelspec": {
   "display_name": "venv",
   "language": "python",
   "name": "python3"
  },
  "language_info": {
   "codemirror_mode": {
    "name": "ipython",
    "version": 3
   },
   "file_extension": ".py",
   "mimetype": "text/x-python",
   "name": "python",
   "nbconvert_exporter": "python",
   "pygments_lexer": "ipython3",
   "version": "3.12.7"
  }
 },
 "nbformat": 4,
 "nbformat_minor": 5
}
